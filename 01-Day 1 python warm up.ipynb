{
 "cells": [
  {
   "cell_type": "code",
   "execution_count": null,
   "id": "904fee55",
   "metadata": {},
   "outputs": [
    {
     "name": "stdout",
     "output_type": "stream",
     "text": [
      "  show_id     type                  title         director  \\\n",
      "0      s1    Movie   Dick Johnson Is Dead  Kirsten Johnson   \n",
      "1      s2  TV Show          Blood & Water              NaN   \n",
      "2      s3  TV Show              Ganglands  Julien Leclercq   \n",
      "3      s4  TV Show  Jailbirds New Orleans              NaN   \n",
      "4      s5  TV Show           Kota Factory              NaN   \n",
      "\n",
      "                                                cast        country  \\\n",
      "0                                                NaN  United States   \n",
      "1  Ama Qamata, Khosi Ngema, Gail Mabalane, Thaban...   South Africa   \n",
      "2  Sami Bouajila, Tracy Gotoas, Samuel Jouy, Nabi...            NaN   \n",
      "3                                                NaN            NaN   \n",
      "4  Mayur More, Jitendra Kumar, Ranjan Raj, Alam K...          India   \n",
      "\n",
      "           date_added  release_year rating   duration  \\\n",
      "0  September 25, 2021          2020  PG-13     90 min   \n",
      "1  September 24, 2021          2021  TV-MA  2 Seasons   \n",
      "2  September 24, 2021          2021  TV-MA   1 Season   \n",
      "3  September 24, 2021          2021  TV-MA   1 Season   \n",
      "4  September 24, 2021          2021  TV-MA  2 Seasons   \n",
      "\n",
      "                                           listed_in  \\\n",
      "0                                      Documentaries   \n",
      "1    International TV Shows, TV Dramas, TV Mysteries   \n",
      "2  Crime TV Shows, International TV Shows, TV Act...   \n",
      "3                             Docuseries, Reality TV   \n",
      "4  International TV Shows, Romantic TV Shows, TV ...   \n",
      "\n",
      "                                         description  \n",
      "0  As her father nears the end of his life, filmm...  \n",
      "1  After crossing paths at a party, a Cape Town t...  \n",
      "2  To protect his family from a powerful drug lor...  \n",
      "3  Feuds, flirtations and toilet talk go down amo...  \n",
      "4  In a city of coaching centers known to train I...  \n"
     ]
    }
   ],
   "source": [
    "\"\"\"Loads Netflix dataset and performs basic cleaning & summaries.\n",
    "- Drops duplicates and strips column whitespace\n",
    "- Fills missing text with 'Unknown' and rating with 'Not Rated'\n",
    "- Normalizes date_added to YYYY-MM-DD\n",
    "- Saves recent movies and year-with-most-releases subsets\n",
    "- Computes basic stats and saves summary reports\n",
    "\"\"\"\n",
    "\n",
    "#make sure to save .csv file in the same directory as this script\n",
    "# Load dataset\n",
    "import pandas as pd\n",
    "\n",
    "df = pd.read_csv(\"netflix_titles.csv\")\n",
    "\n",
    "print(df.head())\n"
   ]
  },
  {
   "cell_type": "code",
   "execution_count": 2,
   "id": "39e1b48e",
   "metadata": {},
   "outputs": [
    {
     "name": "stdout",
     "output_type": "stream",
     "text": [
      "<class 'pandas.core.frame.DataFrame'>\n",
      "RangeIndex: 8807 entries, 0 to 8806\n",
      "Data columns (total 12 columns):\n",
      " #   Column        Non-Null Count  Dtype \n",
      "---  ------        --------------  ----- \n",
      " 0   show_id       8807 non-null   object\n",
      " 1   type          8807 non-null   object\n",
      " 2   title         8807 non-null   object\n",
      " 3   director      6173 non-null   object\n",
      " 4   cast          7982 non-null   object\n",
      " 5   country       7976 non-null   object\n",
      " 6   date_added    8797 non-null   object\n",
      " 7   release_year  8807 non-null   int64 \n",
      " 8   rating        8803 non-null   object\n",
      " 9   duration      8804 non-null   object\n",
      " 10  listed_in     8807 non-null   object\n",
      " 11  description   8807 non-null   object\n",
      "dtypes: int64(1), object(11)\n",
      "memory usage: 825.8+ KB\n",
      "None\n"
     ]
    }
   ],
   "source": [
    "print(df.info()) "
   ]
  },
  {
   "cell_type": "code",
   "execution_count": 3,
   "id": "ada69b80",
   "metadata": {},
   "outputs": [
    {
     "name": "stdout",
     "output_type": "stream",
     "text": [
      "       release_year\n",
      "count   8807.000000\n",
      "mean    2014.180198\n",
      "std        8.819312\n",
      "min     1925.000000\n",
      "25%     2013.000000\n",
      "50%     2017.000000\n",
      "75%     2019.000000\n",
      "max     2021.000000\n"
     ]
    }
   ],
   "source": [
    "print(df.describe())"
   ]
  },
  {
   "cell_type": "code",
   "execution_count": 4,
   "id": "30e838e0",
   "metadata": {},
   "outputs": [
    {
     "name": "stdout",
     "output_type": "stream",
     "text": [
      "Shape of the DataFrame: (8807, 12)\n",
      "Columns in the DataFrame: Index(['show_id', 'type', 'title', 'director', 'cast', 'country', 'date_added',\n",
      "       'release_year', 'rating', 'duration', 'listed_in', 'description'],\n",
      "      dtype='object')\n"
     ]
    }
   ],
   "source": [
    "# 1. Explore the dataset\n",
    "print(\"Shape of the DataFrame:\", df.shape)\n",
    "print(\"Columns in the DataFrame:\", df.columns)\n"
   ]
  },
  {
   "cell_type": "code",
   "execution_count": 5,
   "id": "a43136bb",
   "metadata": {},
   "outputs": [
    {
     "name": "stdout",
     "output_type": "stream",
     "text": [
      "Number of unique countries: 748\n"
     ]
    }
   ],
   "source": [
    "#2. how many unique countries are represented in the dataset?\n",
    "unique_countries = df['country'].nunique()\n",
    "print(\"Number of unique countries:\", unique_countries)"
   ]
  },
  {
   "cell_type": "code",
   "execution_count": 6,
   "id": "46393ae7",
   "metadata": {},
   "outputs": [
    {
     "name": "stdout",
     "output_type": "stream",
     "text": [
      "Average release year: 2014.18\n"
     ]
    }
   ],
   "source": [
    "#3. average relaease year (igore null values(NaN))\n",
    "average_release_year = df['release_year'].mean()\n",
    "print(\"Average release year:\", round(average_release_year,2))"
   ]
  },
  {
   "cell_type": "code",
   "execution_count": 7,
   "id": "2eaadb3b",
   "metadata": {},
   "outputs": [
    {
     "name": "stdout",
     "output_type": "stream",
     "text": [
      "Number of rows with missing values in 'release_year': 0\n"
     ]
    }
   ],
   "source": [
    "#4. how many rows have missing values in the 'release_year' column?\n",
    "print(\"Number of rows with missing values in 'release_year':\", df['release_year'].isnull().sum())"
   ]
  },
  {
   "cell_type": "code",
   "execution_count": 8,
   "id": "640c136a",
   "metadata": {},
   "outputs": [
    {
     "name": "stdout",
     "output_type": "stream",
     "text": [
      "Recent movies saved to 'recent_netflix_movies.csv' 7472 rows\n"
     ]
    }
   ],
   "source": [
    "#5.Save cleaned subset (only movies from 2010 onwards)\n",
    "recent_movies = df[df['release_year'] >= 2010]\n",
    "recent_movies.to_csv(\"recent_netflix_movies.csv\", index=False) \n",
    "print(\"Recent movies saved to 'recent_netflix_movies.csv'\",len(recent_movies),\"rows\")"
   ]
  },
  {
   "cell_type": "code",
   "execution_count": 9,
   "id": "5e514ee2",
   "metadata": {},
   "outputs": [
    {
     "name": "stdout",
     "output_type": "stream",
     "text": [
      "release_year\n",
      "1925       1\n",
      "1942       2\n",
      "1943       3\n",
      "1944       3\n",
      "1945       4\n",
      "        ... \n",
      "2017    1032\n",
      "2018    1147\n",
      "2019    1030\n",
      "2020     953\n",
      "2021     592\n",
      "Length: 74, dtype: int64\n"
     ]
    }
   ],
   "source": [
    "#Find out which year had the most Netflix releases\n",
    "release_per_year = df.groupby('release_year').size()\n",
    "print( release_per_year)\n"
   ]
  },
  {
   "cell_type": "code",
   "execution_count": 10,
   "id": "e7f1e277",
   "metadata": {},
   "outputs": [
    {
     "name": "stdout",
     "output_type": "stream",
     "text": [
      "The year with most releases is 2018 with 1147 titles.\n"
     ]
    }
   ],
   "source": [
    "max_year = release_per_year.idxmax()\n",
    "max_count = release_per_year.max()\n",
    "print(f\"The year with most releases is {max_year} with {max_count} titles.\")"
   ]
  },
  {
   "cell_type": "code",
   "execution_count": 11,
   "id": "bdaa5369",
   "metadata": {},
   "outputs": [],
   "source": [
    "df_max_year = df[df[\"release_year\"] == max_year]"
   ]
  },
  {
   "cell_type": "code",
   "execution_count": 12,
   "id": "5491dd1e",
   "metadata": {},
   "outputs": [
    {
     "name": "stdout",
     "output_type": "stream",
     "text": [
      "Data for the year 2018 saved to 'netflix_most_releases.csv' with 1147 rows.\n"
     ]
    }
   ],
   "source": [
    "output_file = \"netflix_most_releases.csv\"\n",
    "df_max_year.to_csv(output_file, index=False)   \n",
    "print(f\"Data for the year {max_year} saved to '{output_file}' with {len(df_max_year)} rows.\")"
   ]
  },
  {
   "cell_type": "code",
   "execution_count": null,
   "id": "645b31a3",
   "metadata": {},
   "outputs": [],
   "source": [
    "# Replace blank/whitespace strings and NaN in object (text) columns with 'Unknown'\n",
    "obj_cols = df.select_dtypes(include=['object']).columns\n",
    "df[obj_cols] = df[obj_cols].apply(lambda s: s.fillna('').str.strip().replace('', 'Unknown'))\n",
    "print(df[obj_cols].head())\n",
    " "
   ]
  },
  {
   "cell_type": "code",
   "execution_count": 13,
   "id": "30fc398a",
   "metadata": {},
   "outputs": [
    {
     "name": "stderr",
     "output_type": "stream",
     "text": [
      "C:\\Users\\leona\\AppData\\Local\\Temp\\ipykernel_13756\\2648692540.py:1: UserWarning: The argument 'infer_datetime_format' is deprecated and will be removed in a future version. A strict version of it is now the default, see https://pandas.pydata.org/pdeps/0004-consistent-to-datetime-parsing.html. You can safely remove this argument.\n",
      "  df['date_added'] = pd.to_datetime(df['date_added'].str.strip(), errors='coerce', infer_datetime_format=True).dt.strftime('%Y-%m-%d')\n"
     ]
    }
   ],
   "source": [
    "df['date_added'] = pd.to_datetime(df['date_added'].str.strip(), errors='coerce', infer_datetime_format=True).dt.strftime('%Y-%m-%d')\n",
    "\n",
    "output_file = \"netflix_date_added_clean.csv\"\n",
    "df.to_csv(output_file, index=False) "
   ]
  },
  {
   "cell_type": "code",
   "execution_count": null,
   "id": "1b2cfce5",
   "metadata": {},
   "outputs": [],
   "source": []
  }
 ],
 "metadata": {
  "kernelspec": {
   "display_name": "Python 3",
   "language": "python",
   "name": "python3"
  },
  "language_info": {
   "codemirror_mode": {
    "name": "ipython",
    "version": 3
   },
   "file_extension": ".py",
   "mimetype": "text/x-python",
   "name": "python",
   "nbconvert_exporter": "python",
   "pygments_lexer": "ipython3",
   "version": "3.13.1"
  }
 },
 "nbformat": 4,
 "nbformat_minor": 5
}
